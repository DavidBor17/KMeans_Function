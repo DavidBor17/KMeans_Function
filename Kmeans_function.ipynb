{
 "cells": [
  {
   "cell_type": "markdown",
   "metadata": {},
   "source": [
    "# Alpaca Japan"
   ]
  },
  {
   "cell_type": "markdown",
   "metadata": {},
   "source": [
    "## Libraries"
   ]
  },
  {
   "cell_type": "code",
   "execution_count": 1,
   "metadata": {},
   "outputs": [],
   "source": [
    "import pandas as pd\n",
    "import numpy as np\n",
    "import random\n",
    "import matplotlib.pyplot as plt"
   ]
  },
  {
   "cell_type": "markdown",
   "metadata": {},
   "source": [
    "## Kmeans Function Creation"
   ]
  },
  {
   "cell_type": "code",
   "execution_count": 2,
   "metadata": {},
   "outputs": [],
   "source": [
    "def kmeans_function(data, n_clusters, max_iter, seed = 2021):\n",
    "    # Set seed to get the same outcome\n",
    "    random.seed(seed)\n",
    "    # Creation of n random centroids\n",
    "    cent = random.sample(values, n_clusters)\n",
    "    \n",
    "    # Temporal table for the study\n",
    "    temp = pd.DataFrame(data,columns = ['X', 'Y'])\n",
    "    # Create column fot the cluster_id\n",
    "    temp['Cluster_id'] = ''\n",
    "    \n",
    "    # Number of iterations\n",
    "    for j in range(max_iter):\n",
    "        \n",
    "        for i in range(len(data)):\n",
    "            dist_0 = 100\n",
    "            \n",
    "            # Assign the cluster_id\n",
    "            for cen in range(n_clusters):\n",
    "                # Euclidean distance\n",
    "                dist = np.sqrt((data[i][0] - cent[cen][0])**2 + (data[i][1] - cent[cen][1])**2)\n",
    "                # Comparation of distances\n",
    "                if dist < dist_0:\n",
    "                    dist_0 = dist\n",
    "                    temp.loc[i, 'Cluster_id'] = cen\n",
    "        # Save the centroids in order to chek it later if it does not change\n",
    "        cent_old = cent\n",
    "        cent = []\n",
    "        \n",
    "        # Change position of the centroids\n",
    "        for cat in range(n_clusters):\n",
    "            df_cat = temp[temp['Cluster_id'] == cat].copy()\n",
    "            x_cat = df_cat['X'].mean()\n",
    "            y_cat = df_cat['Y'].mean()\n",
    "            coord = (x_cat, y_cat)\n",
    "            cent.append(coord)\n",
    "        # Check if the centroids have not changed\n",
    "        if cent == cent_old:\n",
    "            # Show the number  of iterations needed\n",
    "            print('Number of iterations needed: {}'.format(j))\n",
    "            \n",
    "            # Visualization\n",
    "            df_cent = pd.DataFrame(cent)\n",
    "            plt.scatter(temp.iloc[:, 0], temp.iloc[:, 1], c = temp['Cluster_id'], cmap = 'viridis')\n",
    "            plt.scatter(df_cent.iloc[:, 0], df_cent.iloc[:, 1], c = 'black', s = 200, alpha = 0.5, marker = 'x')\n",
    "            plt.title('Kmeans plot (Number of clusters = {})'.format(n_clusters), size = 15)\n",
    "            # Break the for loop\n",
    "            break\n",
    "            \n",
    "    # Return the Cluster if and the position of the centroids\n",
    "    return temp['Cluster_id'].to_list(),cent"
   ]
  },
  {
   "cell_type": "markdown",
   "metadata": {},
   "source": [
    "## Model Testing"
   ]
  },
  {
   "cell_type": "code",
   "execution_count": 3,
   "metadata": {},
   "outputs": [],
   "source": [
    "# Generate random numbers in the range [0.0, 1.0)\n",
    "values = []\n",
    "random.seed(2021)\n",
    "for i in range(100):\n",
    "    values.append((random.random(),random.random()))"
   ]
  },
  {
   "cell_type": "code",
   "execution_count": 4,
   "metadata": {},
   "outputs": [
    {
     "name": "stdout",
     "output_type": "stream",
     "text": [
      "Number of iterations needed: 3\n"
     ]
    },
    {
     "data": {
      "image/png": "[encoded data removed]",
      "text/plain": [
       "<Figure size 432x288 with 1 Axes>"
      ]
     },
     "metadata": {
      "needs_background": "light"
     },
     "output_type": "display_data"
    }
   ],
   "source": [
    "# Testing the function\n",
    "cluster_id, centroids = kmeans_function(values, 3, 100)"
   ]
  },
  {
   "cell_type": "code",
   "execution_count": 5,
   "metadata": {},
   "outputs": [
    {
     "data": {
      "text/plain": [
       "([2, 0, 1, 0, 1],\n",
       " [(0.31329144191349106, 0.17126365039424102),\n",
       "  (0.29188664510336837, 0.7311814820703465),\n",
       "  (0.7856159426546929, 0.5159432424699582)])"
      ]
     },
     "execution_count": 5,
     "metadata": {},
     "output_type": "execute_result"
    }
   ],
   "source": [
    "# Check the outcome\n",
    "cluster_id[:5], centroids"
   ]
  }
 ],
 "metadata": {
  "kernelspec": {
   "display_name": "Python 3",
   "language": "python",
   "name": "python3"
  },
  "language_info": {
   "codemirror_mode": {
    "name": "ipython",
    "version": 3
   },
   "file_extension": ".py",
   "mimetype": "text/x-python",
   "name": "python",
   "nbconvert_exporter": "python",
   "pygments_lexer": "ipython3",
   "version": "3.7.6"
  }
 },
 "nbformat": 4,
 "nbformat_minor": 4
}
